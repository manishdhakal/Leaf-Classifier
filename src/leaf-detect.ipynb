{
 "cells": [
  {
   "cell_type": "code",
   "execution_count": 2,
   "metadata": {},
   "outputs": [],
   "source": [
    "%config IPCompleter.greedy=True\n",
    "import tensorflow as tf\n",
    "import matplotlib.pyplot as plt\n",
    "import numpy as np\n",
    "import cv2\n",
    "import os"
   ]
  },
  {
   "cell_type": "code",
   "execution_count": 3,
   "metadata": {},
   "outputs": [],
   "source": [
    "dataset_dir = \"../dataset/100 leaves plant species/data\"\n",
    "labels = os.listdir(dataset_dir)"
   ]
  },
  {
   "cell_type": "code",
   "execution_count": 4,
   "metadata": {},
   "outputs": [
    {
     "data": {
      "image/png": "[encoded data removed]",
      "text/plain": [
       "<Figure size 432x288 with 1 Axes>"
      ]
     },
     "metadata": {
      "needs_background": "light"
     },
     "output_type": "display_data"
    }
   ],
   "source": [
    "for label in labels:\n",
    "    path = os.path.join(dataset_dir, label)\n",
    "    for img in os.listdir(path):\n",
    "        img_array = cv2.imread(os.path.join(path, img), cv2.IMREAD_GRAYSCALE)\n",
    "        plt.imshow(img_array, cmap=\"gray\")\n",
    "        plt.show()\n",
    "        break\n",
    "    break"
   ]
  },
  {
   "cell_type": "code",
   "execution_count": 5,
   "metadata": {},
   "outputs": [
    {
     "data": {
      "image/png": "[encoded data removed]",
      "text/plain": [
       "<Figure size 432x288 with 1 Axes>"
      ]
     },
     "metadata": {
      "needs_background": "light"
     },
     "output_type": "display_data"
    }
   ],
   "source": [
    "IMG_SIZE = 40\n",
    "new_img_arr = cv2.resize(img_array,(IMG_SIZE, IMG_SIZE))\n",
    "type(new_img_arr)\n",
    "plt.imshow(new_img_arr, cmap=\"gray\")\n",
    "plt.show()"
   ]
  },
  {
   "cell_type": "code",
   "execution_count": 6,
   "metadata": {},
   "outputs": [],
   "source": [
    "training_data = []\n",
    "testing_data = []\n",
    "for label in labels:\n",
    "    path = os.path.join(dataset_dir, label)\n",
    "    label_index = labels.index(label)\n",
    "    count = 0\n",
    "    for img in os.listdir(path):\n",
    "        try:\n",
    "            img_array = cv2.imread(os.path.join(path, img), cv2.IMREAD_GRAYSCALE)\n",
    "            new_img_arr = cv2.resize(img_array,(IMG_SIZE, IMG_SIZE))\n",
    "            if count < 12:\n",
    "                training_data.append([new_img_arr, label_index])\n",
    "            else:\n",
    "                testing_data.append([new_img_arr, label_index])\n",
    "            count += 1\n",
    "        except Exception as e:\n",
    "            print(e)"
   ]
  },
  {
   "cell_type": "code",
   "execution_count": 7,
   "metadata": {},
   "outputs": [],
   "source": [
    "import random as rd\n",
    "rd.shuffle(training_data)\n",
    "rd.shuffle(testing_data)\n",
    "train_X = []\n",
    "train_Y = []\n",
    "test_X = []\n",
    "test_Y = []\n",
    "for data, index in training_data:\n",
    "    train_X.append(data)\n",
    "    train_Y.append(index)\n",
    "\n",
    "for data, index in testing_data:\n",
    "    test_X.append(data)\n",
    "    test_Y.append(index)\n",
    "\n",
    "\n",
    "train_X  = np.array(train_X)\n",
    "train_X = train_X.reshape((1200, 40,40,1))\n",
    "train_Y = np.array(train_Y)\n",
    "\n",
    "test_X  = np.array(test_X)\n",
    "test_X = test_X.reshape((400, 40,40,1))\n",
    "test_Y = np.array(test_Y)"
   ]
  },
  {
   "cell_type": "code",
   "execution_count": 8,
   "metadata": {},
   "outputs": [],
   "source": [
    "from tensorflow.keras.models import Sequential\n",
    "from tensorflow.keras.layers import Dense, Dropout, Flatten, Conv2D, MaxPooling2D"
   ]
  },
  {
   "cell_type": "code",
   "execution_count": 9,
   "metadata": {},
   "outputs": [
    {
     "name": "stdout",
     "output_type": "stream",
     "text": [
      "Train on 1200 samples\n",
      "Epoch 1/100\n",
      "1200/1200 [==============================] - 5s 4ms/sample - loss: 11.6091 - accuracy: 0.0792\n",
      "Epoch 2/100\n",
      "1200/1200 [==============================] - 5s 4ms/sample - loss: 2.9164 - accuracy: 0.3242\n",
      "Epoch 3/100\n",
      "1200/1200 [==============================] - 5s 4ms/sample - loss: 2.1027 - accuracy: 0.4625\n",
      "Epoch 4/100\n",
      "1200/1200 [==============================] - 5s 4ms/sample - loss: 1.5758 - accuracy: 0.5817\n",
      "Epoch 5/100\n",
      "1200/1200 [==============================] - 5s 4ms/sample - loss: 1.2809 - accuracy: 0.6583\n",
      "Epoch 6/100\n",
      "1200/1200 [==============================] - 5s 4ms/sample - loss: 1.0540 - accuracy: 0.7033\n",
      "Epoch 7/100\n",
      "1200/1200 [==============================] - 5s 4ms/sample - loss: 0.8721 - accuracy: 0.7517\n",
      "Epoch 8/100\n",
      "1200/1200 [==============================] - 5s 4ms/sample - loss: 0.7432 - accuracy: 0.7733\n",
      "Epoch 9/100\n",
      "1200/1200 [==============================] - 5s 4ms/sample - loss: 0.6466 - accuracy: 0.8150\n",
      "Epoch 10/100\n",
      "1200/1200 [==============================] - 5s 4ms/sample - loss: 0.5673 - accuracy: 0.8392\n",
      "Epoch 11/100\n",
      "1200/1200 [==============================] - 5s 4ms/sample - loss: 0.4765 - accuracy: 0.8608\n",
      "Epoch 12/100\n",
      "1200/1200 [==============================] - 5s 4ms/sample - loss: 0.4061 - accuracy: 0.8858\n",
      "Epoch 13/100\n",
      "1200/1200 [==============================] - 5s 4ms/sample - loss: 0.4599 - accuracy: 0.8717\n",
      "Epoch 14/100\n",
      "1200/1200 [==============================] - 5s 4ms/sample - loss: 0.3586 - accuracy: 0.8925\n",
      "Epoch 15/100\n",
      "1200/1200 [==============================] - 5s 4ms/sample - loss: 0.3532 - accuracy: 0.8983\n",
      "Epoch 16/100\n",
      "1200/1200 [==============================] - 5s 4ms/sample - loss: 0.3004 - accuracy: 0.9167\n",
      "Epoch 17/100\n",
      "1200/1200 [==============================] - 5s 4ms/sample - loss: 0.2405 - accuracy: 0.9250\n",
      "Epoch 18/100\n",
      "1200/1200 [==============================] - 5s 4ms/sample - loss: 0.2960 - accuracy: 0.9167\n",
      "Epoch 19/100\n",
      "1200/1200 [==============================] - 5s 4ms/sample - loss: 0.2326 - accuracy: 0.9283\n",
      "Epoch 20/100\n",
      "1200/1200 [==============================] - 5s 4ms/sample - loss: 0.3348 - accuracy: 0.9167\n",
      "Epoch 21/100\n",
      "1200/1200 [==============================] - 5s 4ms/sample - loss: 0.2746 - accuracy: 0.9383\n",
      "Epoch 22/100\n",
      "1200/1200 [==============================] - 5s 4ms/sample - loss: 0.2113 - accuracy: 0.9500\n",
      "Epoch 23/100\n",
      "1200/1200 [==============================] - 5s 4ms/sample - loss: 0.2213 - accuracy: 0.9433\n",
      "Epoch 24/100\n",
      "1200/1200 [==============================] - 5s 4ms/sample - loss: 0.2316 - accuracy: 0.9492\n",
      "Epoch 25/100\n",
      "1200/1200 [==============================] - 5s 4ms/sample - loss: 0.1863 - accuracy: 0.9525\n",
      "Epoch 26/100\n",
      "1200/1200 [==============================] - 5s 4ms/sample - loss: 0.2266 - accuracy: 0.9350\n",
      "Epoch 27/100\n",
      "1200/1200 [==============================] - 5s 4ms/sample - loss: 0.1485 - accuracy: 0.9617\n",
      "Epoch 28/100\n",
      "1200/1200 [==============================] - 5s 4ms/sample - loss: 0.2205 - accuracy: 0.9533\n",
      "Epoch 29/100\n",
      "1200/1200 [==============================] - 5s 4ms/sample - loss: 0.1431 - accuracy: 0.9592\n",
      "Epoch 30/100\n",
      "1200/1200 [==============================] - 5s 4ms/sample - loss: 0.1682 - accuracy: 0.9533\n",
      "Epoch 31/100\n",
      "1200/1200 [==============================] - 5s 4ms/sample - loss: 0.1931 - accuracy: 0.9592\n",
      "Epoch 32/100\n",
      "1200/1200 [==============================] - 5s 4ms/sample - loss: 0.1333 - accuracy: 0.9667\n",
      "Epoch 33/100\n",
      "1200/1200 [==============================] - 5s 4ms/sample - loss: 0.1485 - accuracy: 0.9633\n",
      "Epoch 34/100\n",
      "1200/1200 [==============================] - 5s 4ms/sample - loss: 0.1455 - accuracy: 0.9667\n",
      "Epoch 35/100\n",
      "1200/1200 [==============================] - 5s 4ms/sample - loss: 0.1019 - accuracy: 0.9775\n",
      "Epoch 36/100\n",
      "1200/1200 [==============================] - 5s 4ms/sample - loss: 0.1003 - accuracy: 0.9733\n",
      "Epoch 37/100\n",
      "1200/1200 [==============================] - 5s 4ms/sample - loss: 0.1615 - accuracy: 0.9658\n",
      "Epoch 38/100\n",
      "1200/1200 [==============================] - 5s 4ms/sample - loss: 0.1799 - accuracy: 0.9575\n",
      "Epoch 39/100\n",
      "1200/1200 [==============================] - 5s 4ms/sample - loss: 0.1608 - accuracy: 0.9667\n",
      "Epoch 40/100\n",
      "1200/1200 [==============================] - 5s 4ms/sample - loss: 0.1540 - accuracy: 0.9700\n",
      "Epoch 41/100\n",
      "1200/1200 [==============================] - 5s 4ms/sample - loss: 0.1652 - accuracy: 0.9667\n",
      "Epoch 42/100\n",
      "1200/1200 [==============================] - 5s 4ms/sample - loss: 0.1568 - accuracy: 0.9650\n",
      "Epoch 43/100\n",
      "1200/1200 [==============================] - 5s 4ms/sample - loss: 0.1119 - accuracy: 0.9733\n",
      "Epoch 44/100\n",
      "1200/1200 [==============================] - 5s 4ms/sample - loss: 0.0871 - accuracy: 0.9817\n",
      "Epoch 45/100\n",
      "1200/1200 [==============================] - 5s 4ms/sample - loss: 0.1339 - accuracy: 0.9708\n",
      "Epoch 46/100\n",
      "1200/1200 [==============================] - 5s 4ms/sample - loss: 0.1155 - accuracy: 0.9767\n",
      "Epoch 47/100\n",
      "1200/1200 [==============================] - 5s 4ms/sample - loss: 0.0964 - accuracy: 0.9767\n",
      "Epoch 48/100\n",
      "1200/1200 [==============================] - 5s 4ms/sample - loss: 0.1615 - accuracy: 0.9725\n",
      "Epoch 49/100\n",
      "1200/1200 [==============================] - 5s 4ms/sample - loss: 0.1136 - accuracy: 0.9717\n",
      "Epoch 50/100\n",
      "1200/1200 [==============================] - 5s 4ms/sample - loss: 0.0738 - accuracy: 0.9825\n",
      "Epoch 51/100\n",
      "1200/1200 [==============================] - 5s 4ms/sample - loss: 0.1468 - accuracy: 0.9742\n",
      "Epoch 52/100\n",
      "1200/1200 [==============================] - 5s 5ms/sample - loss: 0.2208 - accuracy: 0.9633\n",
      "Epoch 53/100\n",
      "1200/1200 [==============================] - 5s 4ms/sample - loss: 0.0823 - accuracy: 0.9817\n",
      "Epoch 54/100\n",
      "1200/1200 [==============================] - 5s 4ms/sample - loss: 0.1707 - accuracy: 0.9775\n",
      "Epoch 55/100\n",
      "1200/1200 [==============================] - 5s 4ms/sample - loss: 0.0981 - accuracy: 0.9842\n",
      "Epoch 56/100\n",
      "1200/1200 [==============================] - 5s 4ms/sample - loss: 0.0985 - accuracy: 0.9817\n",
      "Epoch 57/100\n",
      "1200/1200 [==============================] - 5s 4ms/sample - loss: 0.0995 - accuracy: 0.9792\n",
      "Epoch 58/100\n",
      "1200/1200 [==============================] - 5s 4ms/sample - loss: 0.0943 - accuracy: 0.9783\n",
      "Epoch 59/100\n",
      "1200/1200 [==============================] - 5s 4ms/sample - loss: 0.0990 - accuracy: 0.9775\n",
      "Epoch 60/100\n",
      "1200/1200 [==============================] - 5s 4ms/sample - loss: 0.1560 - accuracy: 0.9775\n",
      "Epoch 61/100\n",
      "1200/1200 [==============================] - 5s 4ms/sample - loss: 0.1081 - accuracy: 0.9792\n",
      "Epoch 62/100\n",
      "1200/1200 [==============================] - 5s 4ms/sample - loss: 0.1114 - accuracy: 0.9825\n",
      "Epoch 63/100\n",
      "1200/1200 [==============================] - 5s 4ms/sample - loss: 0.0989 - accuracy: 0.9867\n",
      "Epoch 64/100\n",
      "1200/1200 [==============================] - 5s 4ms/sample - loss: 0.1154 - accuracy: 0.9792\n",
      "Epoch 65/100\n",
      "1200/1200 [==============================] - 5s 4ms/sample - loss: 0.1412 - accuracy: 0.9800\n",
      "Epoch 66/100\n",
      "1200/1200 [==============================] - 5s 4ms/sample - loss: 0.0354 - accuracy: 0.9917\n",
      "Epoch 67/100\n",
      "1200/1200 [==============================] - 5s 4ms/sample - loss: 0.1015 - accuracy: 0.9825\n",
      "Epoch 68/100\n",
      "1200/1200 [==============================] - 5s 4ms/sample - loss: 0.0790 - accuracy: 0.9858\n",
      "Epoch 69/100\n",
      "1200/1200 [==============================] - 5s 4ms/sample - loss: 0.0191 - accuracy: 0.9933\n",
      "Epoch 70/100\n",
      "1200/1200 [==============================] - 5s 4ms/sample - loss: 0.1113 - accuracy: 0.9817\n",
      "Epoch 71/100\n",
      "1200/1200 [==============================] - 5s 4ms/sample - loss: 0.1859 - accuracy: 0.9792\n",
      "Epoch 72/100\n",
      "1200/1200 [==============================] - 5s 4ms/sample - loss: 0.0870 - accuracy: 0.9850\n",
      "Epoch 73/100\n",
      "1200/1200 [==============================] - 5s 4ms/sample - loss: 0.0870 - accuracy: 0.9858\n",
      "Epoch 74/100\n",
      "1200/1200 [==============================] - 5s 4ms/sample - loss: 0.0860 - accuracy: 0.9825\n",
      "Epoch 75/100\n",
      "1200/1200 [==============================] - 5s 4ms/sample - loss: 0.1789 - accuracy: 0.9825\n",
      "Epoch 76/100\n",
      "1200/1200 [==============================] - 5s 4ms/sample - loss: 0.1390 - accuracy: 0.9792\n",
      "Epoch 77/100\n",
      "1200/1200 [==============================] - 5s 4ms/sample - loss: 0.0540 - accuracy: 0.9925\n",
      "Epoch 78/100\n"
     ]
    },
    {
     "name": "stdout",
     "output_type": "stream",
     "text": [
      "1200/1200 [==============================] - 5s 4ms/sample - loss: 0.0783 - accuracy: 0.9817\n",
      "Epoch 79/100\n",
      "1200/1200 [==============================] - 5s 4ms/sample - loss: 0.0589 - accuracy: 0.9900\n",
      "Epoch 80/100\n",
      "1200/1200 [==============================] - 5s 4ms/sample - loss: 0.0759 - accuracy: 0.9850\n",
      "Epoch 81/100\n",
      "1200/1200 [==============================] - 5s 4ms/sample - loss: 0.0336 - accuracy: 0.9900\n",
      "Epoch 82/100\n",
      "1200/1200 [==============================] - 5s 4ms/sample - loss: 0.0821 - accuracy: 0.9842\n",
      "Epoch 83/100\n",
      "1200/1200 [==============================] - 5s 4ms/sample - loss: 0.1509 - accuracy: 0.9833\n",
      "Epoch 84/100\n",
      "1200/1200 [==============================] - 5s 4ms/sample - loss: 0.0252 - accuracy: 0.9933\n",
      "Epoch 85/100\n",
      "1200/1200 [==============================] - 5s 4ms/sample - loss: 0.1163 - accuracy: 0.9842\n",
      "Epoch 86/100\n",
      "1200/1200 [==============================] - 5s 4ms/sample - loss: 0.1345 - accuracy: 0.9800\n",
      "Epoch 87/100\n",
      "1200/1200 [==============================] - 5s 4ms/sample - loss: 0.0654 - accuracy: 0.9892\n",
      "Epoch 88/100\n",
      "1200/1200 [==============================] - 5s 4ms/sample - loss: 0.0776 - accuracy: 0.9825\n",
      "Epoch 89/100\n",
      "1200/1200 [==============================] - 5s 4ms/sample - loss: 0.0729 - accuracy: 0.9883\n",
      "Epoch 90/100\n",
      "1200/1200 [==============================] - 5s 4ms/sample - loss: 0.0900 - accuracy: 0.9883\n",
      "Epoch 91/100\n",
      "1200/1200 [==============================] - 5s 4ms/sample - loss: 0.0680 - accuracy: 0.9867\n",
      "Epoch 92/100\n",
      "1200/1200 [==============================] - 5s 4ms/sample - loss: 0.0554 - accuracy: 0.9925\n",
      "Epoch 93/100\n",
      "1200/1200 [==============================] - 5s 4ms/sample - loss: 0.1000 - accuracy: 0.9850\n",
      "Epoch 94/100\n",
      "1200/1200 [==============================] - 5s 4ms/sample - loss: 0.0754 - accuracy: 0.9883\n",
      "Epoch 95/100\n",
      "1200/1200 [==============================] - 5s 4ms/sample - loss: 0.1291 - accuracy: 0.9825\n",
      "Epoch 96/100\n",
      "1200/1200 [==============================] - 5s 4ms/sample - loss: 0.0546 - accuracy: 0.9925\n",
      "Epoch 97/100\n",
      "1200/1200 [==============================] - 5s 4ms/sample - loss: 0.0836 - accuracy: 0.9933\n",
      "Epoch 98/100\n",
      "1200/1200 [==============================] - 5s 4ms/sample - loss: 0.1101 - accuracy: 0.9867\n",
      "Epoch 99/100\n",
      "1200/1200 [==============================] - 5s 4ms/sample - loss: 0.1772 - accuracy: 0.9850\n",
      "Epoch 100/100\n",
      "1200/1200 [==============================] - 5s 4ms/sample - loss: 0.1059 - accuracy: 0.9858\n"
     ]
    },
    {
     "data": {
      "text/plain": [
       "<tensorflow.python.keras.callbacks.History at 0x1f986e0b0c8>"
      ]
     },
     "execution_count": 9,
     "metadata": {},
     "output_type": "execute_result"
    }
   ],
   "source": [
    "model = Sequential()\n",
    "train_X = train_X.reshape((1200, 40,40,1))\n",
    "model.add(Conv2D(64 ,(3,3), activation=\"relu\",input_shape=(40,40,1)))\n",
    "model.add(MaxPooling2D(pool_size=(2,2)))\n",
    "\n",
    "model.add(Conv2D(64,(3,3),  activation=\"relu\"))\n",
    "model.add(MaxPooling2D(pool_size=(2,2)))\n",
    "\n",
    "model.add(Flatten())\n",
    "model.add(Dropout(0.5))\n",
    "model.add(Dense(1000, activation=\"relu\"))\n",
    "\n",
    "model.add(Dense(100,  activation=\"softmax\"))\n",
    "\n",
    "model.compile(loss=\"sparse_categorical_crossentropy\",\n",
    "             optimizer=\"rmsprop\",\n",
    "            metrics=[\"accuracy\"]\n",
    "             )\n",
    "model.fit(train_X,train_Y, batch_size=25, epochs=100 )"
   ]
  },
  {
   "cell_type": "code",
   "execution_count": 14,
   "metadata": {},
   "outputs": [
    {
     "name": "stdout",
     "output_type": "stream",
     "text": [
      "['Quercus_Canariensis', 'Alnus_Cordata', 'Quercus_Suber', 'Cotinus_Coggygria', 'Acer_Rubrum', 'Ginkgo_Biloba', 'Zelkova_Serrata', 'Quercus_Canariensis', 'Populus_Adenopoda', 'Cornus_Macrophylla']\n",
      "['Quercus_Cerris', 'Alnus_Cordata', 'Olea_Europaea', 'Cotinus_Coggygria', 'Acer_Rubrum', 'Ginkgo_Biloba', 'Acer_Capillipes', 'Quercus_Pontica', 'Populus_Adenopoda', 'Cornus_Macrophylla']\n"
     ]
    }
   ],
   "source": [
    "prob = model.predict(test_X[0:400])\n",
    "predicted = []\n",
    "actual_res = []\n",
    "for it in prob:\n",
    "    arr = it.tolist()\n",
    "#     print(max(arr))\n",
    "    label = labels[arr.index(max(arr))]\n",
    "    predicted.append(label)\n",
    "    \n",
    "for i in range(390,400):\n",
    "    actual_res.append(labels[test_Y[i]])\n",
    "print(predicted)\n",
    "print(actual_res)"
   ]
  }
 ],
 "metadata": {
  "kernelspec": {
   "display_name": "leafvenv",
   "language": "python",
   "name": "leafvenv"
  },
  "language_info": {
   "codemirror_mode": {
    "name": "ipython",
    "version": 3
   },
   "file_extension": ".py",
   "mimetype": "text/x-python",
   "name": "python",
   "nbconvert_exporter": "python",
   "pygments_lexer": "ipython3",
   "version": "3.7.5"
  }
 },
 "nbformat": 4,
 "nbformat_minor": 4
}
